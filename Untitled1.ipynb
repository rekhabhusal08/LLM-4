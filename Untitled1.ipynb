{
  "nbformat": 4,
  "nbformat_minor": 0,
  "metadata": {
    "colab": {
      "provenance": [],
      "authorship_tag": "ABX9TyNrj7RXjdEuv9RGs8I+urDE",
      "include_colab_link": true
    },
    "kernelspec": {
      "name": "python3",
      "display_name": "Python 3"
    },
    "language_info": {
      "name": "python"
    }
  },
  "cells": [
    {
      "cell_type": "markdown",
      "metadata": {
        "id": "view-in-github",
        "colab_type": "text"
      },
      "source": [
        "<a href=\"https://colab.research.google.com/github/rekhabhusal08/LLM-4/blob/main/Untitled1.ipynb\" target=\"_parent\"><img src=\"https://colab.research.google.com/assets/colab-badge.svg\" alt=\"Open In Colab\"/></a>"
      ]
    },
    {
      "cell_type": "code",
      "execution_count": 12,
      "metadata": {
        "id": "k_ftY1S8yBse"
      },
      "outputs": [],
      "source": [
        "from google.colab import userdata\n",
        "# Make sure 'gemini_api_key' is the correct name of your secret\n",
        "api_key = userdata.get('gemini_api_key')"
      ]
    },
    {
      "cell_type": "code",
      "source": [
        "import google.generativeai as genai"
      ],
      "metadata": {
        "id": "8gG751ErzWHI"
      },
      "execution_count": 9,
      "outputs": []
    },
    {
      "cell_type": "code",
      "source": [
        "genai.configure(api_key=api_key)\n",
        "response = genai.GenerativeModel('gemini-2.5-flash').generate_content(\"tell me a joke in nepali\")"
      ],
      "metadata": {
        "id": "cVoNaxJ1zwDs"
      },
      "execution_count": 13,
      "outputs": []
    },
    {
      "cell_type": "code",
      "source": [
        "response"
      ],
      "metadata": {
        "colab": {
          "base_uri": "https://localhost:8080/"
        },
        "id": "BXVVVAA03aQk",
        "outputId": "b9d0029a-b294-4f18-b0ef-ff03bf519177"
      },
      "execution_count": 14,
      "outputs": [
        {
          "output_type": "execute_result",
          "data": {
            "text/plain": [
              "response:\n",
              "GenerateContentResponse(\n",
              "    done=True,\n",
              "    iterator=None,\n",
              "    result=protos.GenerateContentResponse({\n",
              "      \"candidates\": [\n",
              "        {\n",
              "          \"content\": {\n",
              "            \"parts\": [\n",
              "              {\n",
              "                \"text\": \"Okay, here's a classic Nepali joke that plays on words:\\n\\n**\\u0928\\u0947\\u092a\\u093e\\u0932\\u0940\\u092e\\u093e:**\\n\\n\\u0936\\u093f\\u0915\\u094d\\u0937\\u0915: \\\"\\u0916\\u093e\\u0928\\u093e \\u0916\\u093e\\u0928\\u0941\\\" \\u092c\\u093e\\u091f \\u092d\\u0942\\u0924\\u0915\\u093e\\u0932 \\u092c\\u0928\\u093e\\u090a\\u0964\\n\\n\\u0935\\u093f\\u0926\\u094d\\u092f\\u093e\\u0930\\u094d\\u0925\\u0940: \\\"\\u0916\\u093e\\u0928\\u093e \\u0916\\u093e\\u090f\\u0915\\u094b \\u092d\\u0942\\u0924!\\\"\\n\\n**In Romanized Nepali:**\\n\\nShikshak: \\\"Khaana khanu\\\" bata bhutkaal banaau.\\n\\nVidyarthi: \\\"Khaana khaeko bhut!\\\"\\n\\n---\\n\\n**English Translation & Explanation:**\\n\\n**Teacher:** \\\"Make a past tense (\\u092d\\u0942\\u0924\\u0915\\u093e\\u0932 - *bhutkaal*) from 'to eat food' ('\\u0916\\u093e\\u0928\\u093e \\u0916\\u093e\\u0928\\u0941' - *khaana khanu*).\\\"\\n\\n**Student:** \\\"A ghost that ate food!\\\" ('\\u0916\\u093e\\u0928\\u093e \\u0916\\u093e\\u090f\\u0915\\u094b \\u092d\\u0942\\u0924' - *khaana khaeko bhut*)\\n\\n---\\n\\n**Explanation of the joke:**\\n\\n*   \\\"\\u092d\\u0942\\u0924\\u0915\\u093e\\u0932\\\" (bhutkaal) means \\\"past tense.\\\"\\n*   However, \\\"\\u092d\\u0942\\u0924\\\" (bhut) on its own means \\\"ghost.\\\"\\n*   The student intentionally misinterprets \\\"\\u092d\\u0942\\u0924\\u0915\\u093e\\u0932\\\" as something related to a \\\"ghost,\\\" leading to the silly answer.\"\n",
              "              }\n",
              "            ],\n",
              "            \"role\": \"model\"\n",
              "          },\n",
              "          \"finish_reason\": \"STOP\",\n",
              "          \"index\": 0\n",
              "        }\n",
              "      ],\n",
              "      \"usage_metadata\": {\n",
              "        \"prompt_token_count\": 8,\n",
              "        \"candidates_token_count\": 234,\n",
              "        \"total_token_count\": 1410\n",
              "      },\n",
              "      \"model_version\": \"gemini-2.5-flash\"\n",
              "    }),\n",
              ")"
            ]
          },
          "metadata": {},
          "execution_count": 14
        }
      ]
    },
    {
      "cell_type": "code",
      "source": [
        "response.text"
      ],
      "metadata": {
        "colab": {
          "base_uri": "https://localhost:8080/",
          "height": 140
        },
        "id": "2lzTJQQe38Kp",
        "outputId": "aeaaf4b3-f96c-486e-efdb-1301fe83c778"
      },
      "execution_count": 15,
      "outputs": [
        {
          "output_type": "execute_result",
          "data": {
            "text/plain": [
              "'Okay, here\\'s a classic Nepali joke that plays on words:\\n\\n**नेपालीमा:**\\n\\nशिक्षक: \"खाना खानु\" बाट भूतकाल बनाऊ।\\n\\nविद्यार्थी: \"खाना खाएको भूत!\"\\n\\n**In Romanized Nepali:**\\n\\nShikshak: \"Khaana khanu\" bata bhutkaal banaau.\\n\\nVidyarthi: \"Khaana khaeko bhut!\"\\n\\n---\\n\\n**English Translation & Explanation:**\\n\\n**Teacher:** \"Make a past tense (भूतकाल - *bhutkaal*) from \\'to eat food\\' (\\'खाना खानु\\' - *khaana khanu*).\"\\n\\n**Student:** \"A ghost that ate food!\" (\\'खाना खाएको भूत\\' - *khaana khaeko bhut*)\\n\\n---\\n\\n**Explanation of the joke:**\\n\\n*   \"भूतकाल\" (bhutkaal) means \"past tense.\"\\n*   However, \"भूत\" (bhut) on its own means \"ghost.\"\\n*   The student intentionally misinterprets \"भूतकाल\" as something related to a \"ghost,\" leading to the silly answer.'"
            ],
            "application/vnd.google.colaboratory.intrinsic+json": {
              "type": "string"
            }
          },
          "metadata": {},
          "execution_count": 15
        }
      ]
    },
    {
      "cell_type": "code",
      "source": [
        "print(response.text)"
      ],
      "metadata": {
        "colab": {
          "base_uri": "https://localhost:8080/"
        },
        "id": "EFRh8IMK4AIx",
        "outputId": "68bcb95d-0b30-4789-8d3b-8eb1143d0d83"
      },
      "execution_count": 16,
      "outputs": [
        {
          "output_type": "stream",
          "name": "stdout",
          "text": [
            "Okay, here's a classic Nepali joke that plays on words:\n",
            "\n",
            "**नेपालीमा:**\n",
            "\n",
            "शिक्षक: \"खाना खानु\" बाट भूतकाल बनाऊ।\n",
            "\n",
            "विद्यार्थी: \"खाना खाएको भूत!\"\n",
            "\n",
            "**In Romanized Nepali:**\n",
            "\n",
            "Shikshak: \"Khaana khanu\" bata bhutkaal banaau.\n",
            "\n",
            "Vidyarthi: \"Khaana khaeko bhut!\"\n",
            "\n",
            "---\n",
            "\n",
            "**English Translation & Explanation:**\n",
            "\n",
            "**Teacher:** \"Make a past tense (भूतकाल - *bhutkaal*) from 'to eat food' ('खाना खानु' - *khaana khanu*).\"\n",
            "\n",
            "**Student:** \"A ghost that ate food!\" ('खाना खाएको भूत' - *khaana khaeko bhut*)\n",
            "\n",
            "---\n",
            "\n",
            "**Explanation of the joke:**\n",
            "\n",
            "*   \"भूतकाल\" (bhutkaal) means \"past tense.\"\n",
            "*   However, \"भूत\" (bhut) on its own means \"ghost.\"\n",
            "*   The student intentionally misinterprets \"भूतकाल\" as something related to a \"ghost,\" leading to the silly answer.\n"
          ]
        }
      ]
    },
    {
      "cell_type": "code",
      "source": [
        "# tune the llm model\n",
        "Generation_config={\n",
        "    'temperature':0.6,\n",
        "    'max_output_tokens':8000,\n",
        "    'candidate_count':1,\n",
        "\n",
        "}"
      ],
      "metadata": {
        "id": "UsvlpsDI4Uk3"
      },
      "execution_count": 17,
      "outputs": []
    },
    {
      "cell_type": "code",
      "source": [
        "llm = genai.GenerativeModel(\n",
        "    model_name='gemini-2.5-flash',\n",
        "    generation_config=Generation_config,\n",
        "    system_instruction=\"you are a nepali professor\"\n",
        "\n",
        ")"
      ],
      "metadata": {
        "id": "eED-HQBI450B"
      },
      "execution_count": 19,
      "outputs": []
    },
    {
      "cell_type": "code",
      "source": [
        "input= \"what is the theory of relativity\""
      ],
      "metadata": {
        "id": "j0A7VsVO5gaE"
      },
      "execution_count": 23,
      "outputs": []
    },
    {
      "cell_type": "code",
      "source": [
        "# start the session\n",
        "chat_session=llm.start_chat()"
      ],
      "metadata": {
        "id": "IVKsD0ZU5mSH"
      },
      "execution_count": 24,
      "outputs": []
    },
    {
      "cell_type": "code",
      "source": [
        "response= chat_session.send_message (input)\n",
        "response.text"
      ],
      "metadata": {
        "colab": {
          "base_uri": "https://localhost:8080/",
          "height": 175
        },
        "id": "DmMCndYT5yMZ",
        "outputId": "d3e4e7b2-c978-4228-9c3c-25f3a8880a35"
      },
      "execution_count": 25,
      "outputs": [
        {
          "output_type": "execute_result",
          "data": {
            "text/plain": [
              "'Ah, the Theory of Relativity! A cornerstone of modern physics and one of the most profound intellectual achievements in human history. Proposed by Albert Einstein in two main parts – the Special Theory of Relativity (1905) and the General Theory of Relativity (1915) – it fundamentally revolutionized our understanding of space, time, gravity, and the universe itself.\\n\\nLet\\'s break it down:\\n\\n### The Core Idea: Relativity\\n\\nAt its heart, the theory challenges the classical Newtonian view of an absolute, unchanging universe where space and time are fixed backdrops. Instead, it posits that space and time are not fixed but are *relative* to the observer\\'s motion. There is no absolute reference frame; everything is relative to something else.\\n\\n### 1. Special Theory of Relativity (1905)\\n\\nThis theory deals with the relationship between space and time for objects moving at constant speeds (inertial frames of reference). It\\'s built upon two fundamental postulates:\\n\\n1.  **The Principle of Relativity:** The laws of physics are the same for all observers in uniform motion relative to one another. (Meaning, if you\\'re in a windowless train moving at a constant speed, you can\\'t tell if you\\'re moving or standing still by doing experiments inside the train).\\n2.  **The Constancy of the Speed of Light:** The speed of light in a vacuum (denoted as \\'c\\', approximately 300,000 kilometers per second or 186,000 miles per second) is the same for all observers, regardless of the motion of the light source or the observer. This is the truly revolutionary part!\\n\\n**Consequences of Special Relativity (the \"Mind-Bending\" Parts):**\\n\\n*   **Time Dilation:** Moving clocks run slower than stationary clocks. If you were traveling near the speed of light, time would pass more slowly for you relative to someone on Earth.\\n*   **Length Contraction:** Objects appear shorter in the direction of their motion when traveling at very high speeds relative to an observer.\\n*   **Relativistic Mass Increase:** An object\\'s mass appears to increase as its speed approaches the speed of light. As mass increases, it becomes harder to accelerate further. This implies that nothing with mass can ever reach the speed of light.\\n*   **Mass-Energy Equivalence (E=mc²):** This is perhaps the most famous equation from the theory. It states that mass and energy are interchangeable; a small amount of mass can be converted into a tremendous amount of energy, and vice-versa. This principle underlies nuclear power and atomic bombs.\\n\\n### 2. General Theory of Relativity (1915)\\n\\nThis theory extends Special Relativity to include acceleration and, most importantly, **gravity**. It offers a completely new understanding of gravity, replacing Newton\\'s concept of gravity as a force.\\n\\n**The Core Idea of General Relativity:**\\n\\n*   **Gravity as Spacetime Curvature:** Einstein proposed that gravity is not a force pulling objects together, but rather a manifestation of the **curvature of spacetime** caused by the presence of mass and energy.\\n*   **Analogy:** Imagine a stretched rubber sheet. If you place a bowling ball on it (representing a massive object like a star), it creates a dip or curve in the sheet. If you then roll a marble (representing a planet) near the bowling ball, the marble doesn\\'t get \"pulled\" by the bowling ball; instead, it follows the curve in the sheet created by the bowling ball. Similarly, planets orbit stars because they are following the curves in spacetime created by the star\\'s mass.\\n\\n**Consequences of General Relativity:**\\n\\n*   **Gravitational Time Dilation:** Clocks run slower in stronger gravitational fields. This effect is crucial for the accuracy of GPS systems, which need to account for the slightly weaker gravity (and thus faster clocks) on orbiting satellites compared to Earth\\'s surface.\\n*   **Bending of Light (Gravitational Lensing):** Light rays bend as they pass near massive objects. This was famously confirmed during a solar eclipse in 1919, when stars behind the Sun appeared to shift position due to the Sun\\'s gravity bending their light. This phenomenon is now used in astronomy to study distant galaxies (gravitational lensing).\\n*   **Black Holes:** Regions where spacetime is so intensely curved that nothing, not even light, can escape. They are predictions of General Relativity.\\n*   **Gravitational Waves:** Ripples in spacetime caused by accelerating massive objects (like two black holes merging). These were predicted by Einstein and directly detected for the first time in 2015 by the LIGO experiment, opening a new window to observe the universe.\\n*   **Expansion of the Universe:** General Relativity provides the mathematical framework for understanding the large-scale structure and evolution of the universe, including its expansion.\\n\\n### Why is it Important?\\n\\nThe Theory of Relativity is not just an abstract concept; it has profound implications and practical applications:\\n\\n*   **Foundation of Modern Cosmology:** It\\'s the basis for our understanding of the Big Bang, black holes, neutron stars, and the large-scale structure of the cosmos.\\n*   **GPS Technology:** Without accounting for both Special and General Relativistic effects on the clocks of orbiting satellites, GPS systems would accumulate errors of several kilometers per day, rendering them useless.\\n*   **Particle Accelerators:** The design and operation of particle accelerators (like the Large Hadron Collider) must account for relativistic effects as particles approach the speed of light.\\n*   **Nuclear Energy:** E=mc² is the fundamental principle behind nuclear power and weapons.\\n\\nIn essence, Einstein\\'s Theory of Relativity paints a dynamic, interconnected picture of the universe where space and time are intertwined and influenced by matter and energy. It\\'s a testament to the power of human intellect to uncover the deepest secrets of reality.'"
            ],
            "application/vnd.google.colaboratory.intrinsic+json": {
              "type": "string"
            }
          },
          "metadata": {},
          "execution_count": 25
        }
      ]
    },
    {
      "cell_type": "markdown",
      "source": [
        "Framework to work with llm models of orchestration\n",
        "LANGCHAIN\n",
        "LAMAINDEX\n",
        "HAYSTACK\n",
        "\n",
        "---\n",
        "\n"
      ],
      "metadata": {
        "id": "TBUnCGJ26lYP"
      }
    },
    {
      "cell_type": "code",
      "source": [
        "# chatapi using langchain\n",
        "!pip install langchain_google_genai"
      ],
      "metadata": {
        "colab": {
          "base_uri": "https://localhost:8080/",
          "height": 1000
        },
        "id": "q7qKm5e66rM0",
        "outputId": "03dcbd36-fe07-4272-8904-d907843b3554"
      },
      "execution_count": 27,
      "outputs": [
        {
          "output_type": "stream",
          "name": "stdout",
          "text": [
            "Collecting langchain_google_genai\n",
            "  Downloading langchain_google_genai-2.1.8-py3-none-any.whl.metadata (7.0 kB)\n",
            "Collecting filetype<2.0.0,>=1.2.0 (from langchain_google_genai)\n",
            "  Downloading filetype-1.2.0-py2.py3-none-any.whl.metadata (6.5 kB)\n",
            "Collecting google-ai-generativelanguage<0.7.0,>=0.6.18 (from langchain_google_genai)\n",
            "  Downloading google_ai_generativelanguage-0.6.18-py3-none-any.whl.metadata (9.8 kB)\n",
            "Requirement already satisfied: langchain-core<0.4.0,>=0.3.68 in /usr/local/lib/python3.11/dist-packages (from langchain_google_genai) (0.3.68)\n",
            "Requirement already satisfied: pydantic<3,>=2 in /usr/local/lib/python3.11/dist-packages (from langchain_google_genai) (2.11.7)\n",
            "Requirement already satisfied: google-api-core!=2.0.*,!=2.1.*,!=2.10.*,!=2.2.*,!=2.3.*,!=2.4.*,!=2.5.*,!=2.6.*,!=2.7.*,!=2.8.*,!=2.9.*,<3.0.0,>=1.34.1 in /usr/local/lib/python3.11/dist-packages (from google-api-core[grpc]!=2.0.*,!=2.1.*,!=2.10.*,!=2.2.*,!=2.3.*,!=2.4.*,!=2.5.*,!=2.6.*,!=2.7.*,!=2.8.*,!=2.9.*,<3.0.0,>=1.34.1->google-ai-generativelanguage<0.7.0,>=0.6.18->langchain_google_genai) (2.25.1)\n",
            "Requirement already satisfied: google-auth!=2.24.0,!=2.25.0,<3.0.0,>=2.14.1 in /usr/local/lib/python3.11/dist-packages (from google-ai-generativelanguage<0.7.0,>=0.6.18->langchain_google_genai) (2.38.0)\n",
            "Requirement already satisfied: proto-plus<2.0.0,>=1.22.3 in /usr/local/lib/python3.11/dist-packages (from google-ai-generativelanguage<0.7.0,>=0.6.18->langchain_google_genai) (1.26.1)\n",
            "Requirement already satisfied: protobuf!=4.21.0,!=4.21.1,!=4.21.2,!=4.21.3,!=4.21.4,!=4.21.5,<7.0.0,>=3.20.2 in /usr/local/lib/python3.11/dist-packages (from google-ai-generativelanguage<0.7.0,>=0.6.18->langchain_google_genai) (5.29.5)\n",
            "Requirement already satisfied: langsmith>=0.3.45 in /usr/local/lib/python3.11/dist-packages (from langchain-core<0.4.0,>=0.3.68->langchain_google_genai) (0.4.5)\n",
            "Requirement already satisfied: tenacity!=8.4.0,<10.0.0,>=8.1.0 in /usr/local/lib/python3.11/dist-packages (from langchain-core<0.4.0,>=0.3.68->langchain_google_genai) (8.5.0)\n",
            "Requirement already satisfied: jsonpatch<2.0,>=1.33 in /usr/local/lib/python3.11/dist-packages (from langchain-core<0.4.0,>=0.3.68->langchain_google_genai) (1.33)\n",
            "Requirement already satisfied: PyYAML>=5.3 in /usr/local/lib/python3.11/dist-packages (from langchain-core<0.4.0,>=0.3.68->langchain_google_genai) (6.0.2)\n",
            "Requirement already satisfied: packaging<25,>=23.2 in /usr/local/lib/python3.11/dist-packages (from langchain-core<0.4.0,>=0.3.68->langchain_google_genai) (24.2)\n",
            "Requirement already satisfied: typing-extensions>=4.7 in /usr/local/lib/python3.11/dist-packages (from langchain-core<0.4.0,>=0.3.68->langchain_google_genai) (4.14.1)\n",
            "Requirement already satisfied: annotated-types>=0.6.0 in /usr/local/lib/python3.11/dist-packages (from pydantic<3,>=2->langchain_google_genai) (0.7.0)\n",
            "Requirement already satisfied: pydantic-core==2.33.2 in /usr/local/lib/python3.11/dist-packages (from pydantic<3,>=2->langchain_google_genai) (2.33.2)\n",
            "Requirement already satisfied: typing-inspection>=0.4.0 in /usr/local/lib/python3.11/dist-packages (from pydantic<3,>=2->langchain_google_genai) (0.4.1)\n",
            "Requirement already satisfied: googleapis-common-protos<2.0.0,>=1.56.2 in /usr/local/lib/python3.11/dist-packages (from google-api-core!=2.0.*,!=2.1.*,!=2.10.*,!=2.2.*,!=2.3.*,!=2.4.*,!=2.5.*,!=2.6.*,!=2.7.*,!=2.8.*,!=2.9.*,<3.0.0,>=1.34.1->google-api-core[grpc]!=2.0.*,!=2.1.*,!=2.10.*,!=2.2.*,!=2.3.*,!=2.4.*,!=2.5.*,!=2.6.*,!=2.7.*,!=2.8.*,!=2.9.*,<3.0.0,>=1.34.1->google-ai-generativelanguage<0.7.0,>=0.6.18->langchain_google_genai) (1.70.0)\n",
            "Requirement already satisfied: requests<3.0.0,>=2.18.0 in /usr/local/lib/python3.11/dist-packages (from google-api-core!=2.0.*,!=2.1.*,!=2.10.*,!=2.2.*,!=2.3.*,!=2.4.*,!=2.5.*,!=2.6.*,!=2.7.*,!=2.8.*,!=2.9.*,<3.0.0,>=1.34.1->google-api-core[grpc]!=2.0.*,!=2.1.*,!=2.10.*,!=2.2.*,!=2.3.*,!=2.4.*,!=2.5.*,!=2.6.*,!=2.7.*,!=2.8.*,!=2.9.*,<3.0.0,>=1.34.1->google-ai-generativelanguage<0.7.0,>=0.6.18->langchain_google_genai) (2.32.3)\n",
            "Requirement already satisfied: grpcio<2.0.0,>=1.33.2 in /usr/local/lib/python3.11/dist-packages (from google-api-core[grpc]!=2.0.*,!=2.1.*,!=2.10.*,!=2.2.*,!=2.3.*,!=2.4.*,!=2.5.*,!=2.6.*,!=2.7.*,!=2.8.*,!=2.9.*,<3.0.0,>=1.34.1->google-ai-generativelanguage<0.7.0,>=0.6.18->langchain_google_genai) (1.73.1)\n",
            "Requirement already satisfied: grpcio-status<2.0.0,>=1.33.2 in /usr/local/lib/python3.11/dist-packages (from google-api-core[grpc]!=2.0.*,!=2.1.*,!=2.10.*,!=2.2.*,!=2.3.*,!=2.4.*,!=2.5.*,!=2.6.*,!=2.7.*,!=2.8.*,!=2.9.*,<3.0.0,>=1.34.1->google-ai-generativelanguage<0.7.0,>=0.6.18->langchain_google_genai) (1.71.2)\n",
            "Requirement already satisfied: cachetools<6.0,>=2.0.0 in /usr/local/lib/python3.11/dist-packages (from google-auth!=2.24.0,!=2.25.0,<3.0.0,>=2.14.1->google-ai-generativelanguage<0.7.0,>=0.6.18->langchain_google_genai) (5.5.2)\n",
            "Requirement already satisfied: pyasn1-modules>=0.2.1 in /usr/local/lib/python3.11/dist-packages (from google-auth!=2.24.0,!=2.25.0,<3.0.0,>=2.14.1->google-ai-generativelanguage<0.7.0,>=0.6.18->langchain_google_genai) (0.4.2)\n",
            "Requirement already satisfied: rsa<5,>=3.1.4 in /usr/local/lib/python3.11/dist-packages (from google-auth!=2.24.0,!=2.25.0,<3.0.0,>=2.14.1->google-ai-generativelanguage<0.7.0,>=0.6.18->langchain_google_genai) (4.9.1)\n",
            "Requirement already satisfied: jsonpointer>=1.9 in /usr/local/lib/python3.11/dist-packages (from jsonpatch<2.0,>=1.33->langchain-core<0.4.0,>=0.3.68->langchain_google_genai) (3.0.0)\n",
            "Requirement already satisfied: httpx<1,>=0.23.0 in /usr/local/lib/python3.11/dist-packages (from langsmith>=0.3.45->langchain-core<0.4.0,>=0.3.68->langchain_google_genai) (0.28.1)\n",
            "Requirement already satisfied: orjson<4.0.0,>=3.9.14 in /usr/local/lib/python3.11/dist-packages (from langsmith>=0.3.45->langchain-core<0.4.0,>=0.3.68->langchain_google_genai) (3.10.18)\n",
            "Requirement already satisfied: requests-toolbelt<2.0.0,>=1.0.0 in /usr/local/lib/python3.11/dist-packages (from langsmith>=0.3.45->langchain-core<0.4.0,>=0.3.68->langchain_google_genai) (1.0.0)\n",
            "Requirement already satisfied: zstandard<0.24.0,>=0.23.0 in /usr/local/lib/python3.11/dist-packages (from langsmith>=0.3.45->langchain-core<0.4.0,>=0.3.68->langchain_google_genai) (0.23.0)\n",
            "Requirement already satisfied: anyio in /usr/local/lib/python3.11/dist-packages (from httpx<1,>=0.23.0->langsmith>=0.3.45->langchain-core<0.4.0,>=0.3.68->langchain_google_genai) (4.9.0)\n",
            "Requirement already satisfied: certifi in /usr/local/lib/python3.11/dist-packages (from httpx<1,>=0.23.0->langsmith>=0.3.45->langchain-core<0.4.0,>=0.3.68->langchain_google_genai) (2025.7.14)\n",
            "Requirement already satisfied: httpcore==1.* in /usr/local/lib/python3.11/dist-packages (from httpx<1,>=0.23.0->langsmith>=0.3.45->langchain-core<0.4.0,>=0.3.68->langchain_google_genai) (1.0.9)\n",
            "Requirement already satisfied: idna in /usr/local/lib/python3.11/dist-packages (from httpx<1,>=0.23.0->langsmith>=0.3.45->langchain-core<0.4.0,>=0.3.68->langchain_google_genai) (3.10)\n",
            "Requirement already satisfied: h11>=0.16 in /usr/local/lib/python3.11/dist-packages (from httpcore==1.*->httpx<1,>=0.23.0->langsmith>=0.3.45->langchain-core<0.4.0,>=0.3.68->langchain_google_genai) (0.16.0)\n",
            "Requirement already satisfied: pyasn1<0.7.0,>=0.6.1 in /usr/local/lib/python3.11/dist-packages (from pyasn1-modules>=0.2.1->google-auth!=2.24.0,!=2.25.0,<3.0.0,>=2.14.1->google-ai-generativelanguage<0.7.0,>=0.6.18->langchain_google_genai) (0.6.1)\n",
            "Requirement already satisfied: charset-normalizer<4,>=2 in /usr/local/lib/python3.11/dist-packages (from requests<3.0.0,>=2.18.0->google-api-core!=2.0.*,!=2.1.*,!=2.10.*,!=2.2.*,!=2.3.*,!=2.4.*,!=2.5.*,!=2.6.*,!=2.7.*,!=2.8.*,!=2.9.*,<3.0.0,>=1.34.1->google-api-core[grpc]!=2.0.*,!=2.1.*,!=2.10.*,!=2.2.*,!=2.3.*,!=2.4.*,!=2.5.*,!=2.6.*,!=2.7.*,!=2.8.*,!=2.9.*,<3.0.0,>=1.34.1->google-ai-generativelanguage<0.7.0,>=0.6.18->langchain_google_genai) (3.4.2)\n",
            "Requirement already satisfied: urllib3<3,>=1.21.1 in /usr/local/lib/python3.11/dist-packages (from requests<3.0.0,>=2.18.0->google-api-core!=2.0.*,!=2.1.*,!=2.10.*,!=2.2.*,!=2.3.*,!=2.4.*,!=2.5.*,!=2.6.*,!=2.7.*,!=2.8.*,!=2.9.*,<3.0.0,>=1.34.1->google-api-core[grpc]!=2.0.*,!=2.1.*,!=2.10.*,!=2.2.*,!=2.3.*,!=2.4.*,!=2.5.*,!=2.6.*,!=2.7.*,!=2.8.*,!=2.9.*,<3.0.0,>=1.34.1->google-ai-generativelanguage<0.7.0,>=0.6.18->langchain_google_genai) (2.4.0)\n",
            "Requirement already satisfied: sniffio>=1.1 in /usr/local/lib/python3.11/dist-packages (from anyio->httpx<1,>=0.23.0->langsmith>=0.3.45->langchain-core<0.4.0,>=0.3.68->langchain_google_genai) (1.3.1)\n",
            "Downloading langchain_google_genai-2.1.8-py3-none-any.whl (47 kB)\n",
            "\u001b[2K   \u001b[90m━━━━━━━━━━━━━━━━━━━━━━━━━━━━━━━━━━━━━━━━\u001b[0m \u001b[32m47.8/47.8 kB\u001b[0m \u001b[31m2.1 MB/s\u001b[0m eta \u001b[36m0:00:00\u001b[0m\n",
            "\u001b[?25hDownloading filetype-1.2.0-py2.py3-none-any.whl (19 kB)\n",
            "Downloading google_ai_generativelanguage-0.6.18-py3-none-any.whl (1.4 MB)\n",
            "\u001b[2K   \u001b[90m━━━━━━━━━━━━━━━━━━━━━━━━━━━━━━━━━━━━━━━━\u001b[0m \u001b[32m1.4/1.4 MB\u001b[0m \u001b[31m24.4 MB/s\u001b[0m eta \u001b[36m0:00:00\u001b[0m\n",
            "\u001b[?25hInstalling collected packages: filetype, google-ai-generativelanguage, langchain_google_genai\n",
            "  Attempting uninstall: google-ai-generativelanguage\n",
            "    Found existing installation: google-ai-generativelanguage 0.6.15\n",
            "    Uninstalling google-ai-generativelanguage-0.6.15:\n",
            "      Successfully uninstalled google-ai-generativelanguage-0.6.15\n",
            "\u001b[31mERROR: pip's dependency resolver does not currently take into account all the packages that are installed. This behaviour is the source of the following dependency conflicts.\n",
            "google-generativeai 0.8.5 requires google-ai-generativelanguage==0.6.15, but you have google-ai-generativelanguage 0.6.18 which is incompatible.\u001b[0m\u001b[31m\n",
            "\u001b[0mSuccessfully installed filetype-1.2.0 google-ai-generativelanguage-0.6.18 langchain_google_genai-2.1.8\n"
          ]
        },
        {
          "output_type": "display_data",
          "data": {
            "application/vnd.colab-display-data+json": {
              "pip_warning": {
                "packages": [
                  "google"
                ]
              },
              "id": "657a161d3c6c43488ed53fd235886cd1"
            }
          },
          "metadata": {}
        }
      ]
    },
    {
      "cell_type": "code",
      "source": [
        "from langchain_google_genai import ChatGoogleGenerativeAI"
      ],
      "metadata": {
        "id": "yrkc0jHf7UOv"
      },
      "execution_count": 28,
      "outputs": []
    },
    {
      "cell_type": "code",
      "source": [
        "llm= ChatGoogleGenerativeAI(model=\"gemini-2.5-flash\",api_key=api_key)"
      ],
      "metadata": {
        "id": "4r94g0pO7cCo"
      },
      "execution_count": 29,
      "outputs": []
    },
    {
      "cell_type": "code",
      "source": [
        "result=llm.invoke(\"Tell me a joke in Nepali\")\n",
        "result.content"
      ],
      "metadata": {
        "colab": {
          "base_uri": "https://localhost:8080/",
          "height": 105
        },
        "id": "PkM7NHWG7r3D",
        "outputId": "2541415c-e80e-4a7e-f363-2f8a37f0d42d"
      },
      "execution_count": 31,
      "outputs": [
        {
          "output_type": "execute_result",
          "data": {
            "text/plain": [
              "'Here\\'s a common type of Nepali joke, often a play on words or a simple misunderstanding:\\n\\n**Joke in Nepali:**\\n\\nशिक्षक: \"ल भन त, के कुरा हो, जति धेरै झिक्यो, त्यति नै ठूलो हुन्छ?\"\\n\\nविद्यार्थी: \"सर, खल्ती!\"\\n\\n**Translation:**\\n\\nTeacher: \"Tell me, what is it that gets bigger the more you take out of it?\"\\n\\nStudent: \"Sir, a pocket!\"\\n\\n**Explanation:**\\n\\nThe teacher is hinting at a riddle (the answer is usually \"a hole\"), but the student gives a literal, funny answer about a pocket becoming \"bigger\" (emptier) as money or items are taken out.'"
            ],
            "application/vnd.google.colaboratory.intrinsic+json": {
              "type": "string"
            }
          },
          "metadata": {},
          "execution_count": 31
        }
      ]
    },
    {
      "cell_type": "code",
      "source": [
        "print(result.content)"
      ],
      "metadata": {
        "colab": {
          "base_uri": "https://localhost:8080/"
        },
        "id": "ccDsIGsD7-jJ",
        "outputId": "f7ef5ed5-31d4-45c1-abc8-448d492f1adc"
      },
      "execution_count": 33,
      "outputs": [
        {
          "output_type": "stream",
          "name": "stdout",
          "text": [
            "Here's a common type of Nepali joke, often a play on words or a simple misunderstanding:\n",
            "\n",
            "**Joke in Nepali:**\n",
            "\n",
            "शिक्षक: \"ल भन त, के कुरा हो, जति धेरै झिक्यो, त्यति नै ठूलो हुन्छ?\"\n",
            "\n",
            "विद्यार्थी: \"सर, खल्ती!\"\n",
            "\n",
            "**Translation:**\n",
            "\n",
            "Teacher: \"Tell me, what is it that gets bigger the more you take out of it?\"\n",
            "\n",
            "Student: \"Sir, a pocket!\"\n",
            "\n",
            "**Explanation:**\n",
            "\n",
            "The teacher is hinting at a riddle (the answer is usually \"a hole\"), but the student gives a literal, funny answer about a pocket becoming \"bigger\" (emptier) as money or items are taken out.\n"
          ]
        }
      ]
    },
    {
      "cell_type": "markdown",
      "source": [
        "### Let's playground with prompt template"
      ],
      "metadata": {
        "id": "_2TJtCoS9Y30"
      }
    },
    {
      "cell_type": "code",
      "source": [
        "template_string=\"\"\"Translate the text\\\n",
        "that is delimited by triple backticks\\\n",
        "into a style that is {style}.\\\n",
        "text:'''{text}'''\n",
        "\"\"\""
      ],
      "metadata": {
        "id": "gc1NQN3i9dLH"
      },
      "execution_count": 34,
      "outputs": []
    },
    {
      "cell_type": "code",
      "source": [
        "from langchain.prompts import ChatPromptTemplate\n",
        "prompt_template=ChatPromptTemplate.from_template(template_string)"
      ],
      "metadata": {
        "id": "hXr-V08292XV"
      },
      "execution_count": 36,
      "outputs": []
    },
    {
      "cell_type": "code",
      "source": [
        "prompt_template.messages[0].prompt"
      ],
      "metadata": {
        "colab": {
          "base_uri": "https://localhost:8080/"
        },
        "id": "CF4fFN_G96Gf",
        "outputId": "49c44c99-75fe-4b98-bade-d7dcecdbf98c"
      },
      "execution_count": 37,
      "outputs": [
        {
          "output_type": "execute_result",
          "data": {
            "text/plain": [
              "PromptTemplate(input_variables=['style', 'text'], input_types={}, partial_variables={}, template=\"Translate the textthat is delimited by triple backticksinto a style that is {style}.text:'''{text}'''\\n\")"
            ]
          },
          "metadata": {},
          "execution_count": 37
        }
      ]
    },
    {
      "cell_type": "code",
      "source": [
        "customer_style=\"\"\"pure nepali\\\n",
        "in a calm and respectful tone\n",
        "\"\"\""
      ],
      "metadata": {
        "id": "Qx86pPcY-Wy4"
      },
      "execution_count": 38,
      "outputs": []
    },
    {
      "cell_type": "code",
      "source": [
        "customer_email=\"\"\"welcome to genAI tutorial\\\n",
        "class.This is day 1.We are using google gemini flash model\n",
        "\"\"\""
      ],
      "metadata": {
        "id": "Qc78L7WT-lqQ"
      },
      "execution_count": 39,
      "outputs": []
    },
    {
      "cell_type": "code",
      "source": [
        "service_style=\"\"\"a polite tone\\that speaks in french\\\n",
        "\"\"\"\n",
        "service_reply=\"\"\" Hey Customer,the warrenty doesnot cover cleanning\\\n",
        "expenses for your kitchen item.\"\"\""
      ],
      "metadata": {
        "id": "ebH8iC0-AnCw"
      },
      "execution_count": 47,
      "outputs": []
    },
    {
      "cell_type": "code",
      "source": [
        "customer_messages=prompt_template.format_messages(\n",
        "    style=service_style,\n",
        "    text=service_reply\n",
        ")"
      ],
      "metadata": {
        "id": "NQwQ0XGk-60P"
      },
      "execution_count": 48,
      "outputs": []
    },
    {
      "cell_type": "code",
      "source": [
        "print(customer_messages[0])"
      ],
      "metadata": {
        "colab": {
          "base_uri": "https://localhost:8080/"
        },
        "id": "IRbZ4s4u_BeY",
        "outputId": "d3bb9cc8-c848-4456-beaa-a6c5c3ce9f8f"
      },
      "execution_count": 49,
      "outputs": [
        {
          "output_type": "stream",
          "name": "stdout",
          "text": [
            "content=\"Translate the textthat is delimited by triple backticksinto a style that is a polite tone\\that speaks in french.text:''' Hey Customer,the warrenty doesnot cover cleanningexpenses for your kitchen item.'''\\n\" additional_kwargs={} response_metadata={}\n"
          ]
        }
      ]
    },
    {
      "cell_type": "code",
      "source": [
        "# lets call LLM model to translate the style of the customer messages\n",
        "customer_response = llm.invoke(customer_messages)\n",
        "print(customer_response)"
      ],
      "metadata": {
        "colab": {
          "base_uri": "https://localhost:8080/"
        },
        "id": "8nu3T4Vt_QW9",
        "outputId": "aceabad6-45e7-4e0e-8486-c8ed36ce2dbe"
      },
      "execution_count": 50,
      "outputs": [
        {
          "output_type": "stream",
          "name": "stdout",
          "text": [
            "content='Here are a few options, ranging from polite to very polite:\\n\\n**Option 1 (Polite and Direct):**\\n\"Cher client,\\nVeuillez noter que la garantie ne couvre pas les frais de nettoyage pour votre article de cuisine.\"\\n\\n**Option 2 (Slightly more formal and common for such notifications):**\\n\"Cher client,\\nNous tenons à vous informer que la garantie ne prend pas en charge les frais de nettoyage relatifs à votre article de cuisine.\"\\n\\n**Option 3 (Very polite, with a touch of regret/explanation):**\\n\"Cher client,\\nNous sommes au regret de vous informer que, conformément à nos conditions, les frais de nettoyage pour votre article de cuisine ne sont pas couverts par la garantie.\"\\n\\n**Recommended (Option 2) for a good balance of politeness and clarity:**\\n\\n\"**Cher client, nous tenons à vous informer que la garantie ne prend pas en charge les frais de nettoyage pour votre article de cuisine.**\"' additional_kwargs={} response_metadata={'prompt_feedback': {'block_reason': 0, 'safety_ratings': []}, 'finish_reason': 'STOP', 'model_name': 'gemini-2.5-flash', 'safety_ratings': []} id='run--59fd87c5-028c-4bc6-a937-06bb9aaac9b0-0'\n"
          ]
        }
      ]
    },
    {
      "cell_type": "code",
      "source": [
        "print(customer_response.content)"
      ],
      "metadata": {
        "colab": {
          "base_uri": "https://localhost:8080/"
        },
        "id": "j4LwRNyoB3u4",
        "outputId": "c62f4ba7-c26c-4974-cf20-73b69dce7661"
      },
      "execution_count": 51,
      "outputs": [
        {
          "output_type": "stream",
          "name": "stdout",
          "text": [
            "Here are a few options, ranging from polite to very polite:\n",
            "\n",
            "**Option 1 (Polite and Direct):**\n",
            "\"Cher client,\n",
            "Veuillez noter que la garantie ne couvre pas les frais de nettoyage pour votre article de cuisine.\"\n",
            "\n",
            "**Option 2 (Slightly more formal and common for such notifications):**\n",
            "\"Cher client,\n",
            "Nous tenons à vous informer que la garantie ne prend pas en charge les frais de nettoyage relatifs à votre article de cuisine.\"\n",
            "\n",
            "**Option 3 (Very polite, with a touch of regret/explanation):**\n",
            "\"Cher client,\n",
            "Nous sommes au regret de vous informer que, conformément à nos conditions, les frais de nettoyage pour votre article de cuisine ne sont pas couverts par la garantie.\"\n",
            "\n",
            "**Recommended (Option 2) for a good balance of politeness and clarity:**\n",
            "\n",
            "\"**Cher client, nous tenons à vous informer que la garantie ne prend pas en charge les frais de nettoyage pour votre article de cuisine.**\"\n"
          ]
        }
      ]
    }
  ]
}